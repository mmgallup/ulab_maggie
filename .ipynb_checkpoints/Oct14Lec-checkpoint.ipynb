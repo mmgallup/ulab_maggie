{
 "cells": [
  {
   "cell_type": "code",
   "execution_count": 13,
   "id": "ccaa08d2-571a-4fc6-be6b-d212aac608a0",
   "metadata": {},
   "outputs": [
    {
     "data": {
      "text/plain": [
       "'Python is awesome'"
      ]
     },
     "execution_count": 13,
     "metadata": {},
     "output_type": "execute_result"
    }
   ],
   "source": [
    "# Add strings\n",
    "\"Python\" \" \" \"is\" \" \" \"awesome\""
   ]
  },
  {
   "cell_type": "code",
   "execution_count": 15,
   "id": "e98c1aff-ced3-4402-8053-efa08a078c43",
   "metadata": {},
   "outputs": [
    {
     "name": "stdout",
     "output_type": "stream",
     "text": [
      "2\n"
     ]
    }
   ],
   "source": [
    "# You can set multiple variables at once\n",
    "m, n, p = 2, 4, 6\n",
    "print(m)"
   ]
  },
  {
   "cell_type": "code",
   "execution_count": 16,
   "id": "e7b02c5c-91ac-4807-b512-0020375d993b",
   "metadata": {},
   "outputs": [
    {
     "name": "stdout",
     "output_type": "stream",
     "text": [
      "10\n",
      "10\n"
     ]
    }
   ],
   "source": [
    "# You can set varibales to the same value\n",
    "a = b = c = 10\n",
    "print(a)\n",
    "print(b)"
   ]
  },
  {
   "cell_type": "code",
   "execution_count": 19,
   "id": "cc6bdbb2-6c9a-4a69-a70a-1ec6c04f341c",
   "metadata": {},
   "outputs": [
    {
     "name": "stdout",
     "output_type": "stream",
     "text": [
      "5\n"
     ]
    }
   ],
   "source": [
    "print(a)\n",
    "a = 5"
   ]
  },
  {
   "cell_type": "code",
   "execution_count": 21,
   "id": "151500c9-62db-414f-b2c8-ca0e188ef097",
   "metadata": {},
   "outputs": [
    {
     "data": {
      "text/plain": [
       "'Hello Caitlin!'"
      ]
     },
     "execution_count": 21,
     "metadata": {},
     "output_type": "execute_result"
    }
   ],
   "source": [
    "# Functions!!\n",
    "# Making a new funtion: def function(argument):\n",
    "def greet(name): \n",
    "    talk = \"Hello\" + \" \" + name + \"!\"\n",
    "    return talk\n",
    "\n",
    "greet(\"Caitlin\")"
   ]
  },
  {
   "cell_type": "code",
   "execution_count": 22,
   "id": "e642820f-1bf4-443f-b8b2-270ac2f7b460",
   "metadata": {},
   "outputs": [
    {
     "data": {
      "text/plain": [
       "'Hello Saahit!'"
      ]
     },
     "execution_count": 22,
     "metadata": {},
     "output_type": "execute_result"
    }
   ],
   "source": [
    "greet(\"Saahit\")"
   ]
  },
  {
   "cell_type": "code",
   "execution_count": 26,
   "id": "c126a43b-6b80-4935-91f8-2f23d51ce3e0",
   "metadata": {},
   "outputs": [
    {
     "data": {
      "text/plain": [
       "\"dex's favorite color is purple.\""
      ]
     },
     "execution_count": 26,
     "metadata": {},
     "output_type": "execute_result"
    }
   ],
   "source": [
    "# Functions can have default arguments\n",
    "def fav_color(color, person = \"Brianna\"):\n",
    "    sentence = person + \"'s favorite color is\" + \" \" + color + \".\"\n",
    "    return sentence\n",
    "\n",
    "# fav_color(color = \"purple\", person = \"brianna\")\n",
    "fav_color(color=\"purple\") # Only one argument needed\n",
    "fav_color(color = \"purple\", person = \"dex\") # Can change default arguments"
   ]
  },
  {
   "cell_type": "code",
   "execution_count": 29,
   "id": "05b1e304-7dfe-4436-9b59-92aeebaaca2b",
   "metadata": {},
   "outputs": [
    {
     "name": "stdout",
     "output_type": "stream",
     "text": [
      "6.0\n"
     ]
    }
   ],
   "source": [
    "# Practice good coding skills\n",
    "def area_of_triangle(base, height):\n",
    "    # Computes the area of a triangle\n",
    "    # Area = 1/2(base * height)\n",
    "\n",
    "    area = (base * height)/2\n",
    "    return area\n",
    "\n",
    "\n",
    "my_base = 3\n",
    "my_height = 4\n",
    "my_area = area_of_triangle(my_base, my_height)\n",
    "print(my_area)"
   ]
  },
  {
   "cell_type": "code",
   "execution_count": 31,
   "id": "369bf083-867c-4ca2-abc0-90a2ad0c17fe",
   "metadata": {},
   "outputs": [
    {
     "name": "stdout",
     "output_type": "stream",
     "text": [
      "10\n",
      "10\n"
     ]
    }
   ],
   "source": [
    "# Global v local variables\n",
    "x = 10\n",
    "\n",
    "def display_variable():\n",
    "    print(x)\n",
    "\n",
    "display_variable()\n",
    "print(x)"
   ]
  },
  {
   "cell_type": "code",
   "execution_count": 36,
   "id": "3ac41ce4-0189-44af-8a64-e754755adb5a",
   "metadata": {},
   "outputs": [
    {
     "name": "stdout",
     "output_type": "stream",
     "text": [
      "5\n"
     ]
    }
   ],
   "source": [
    "def display_variable2():\n",
    "    y = 5\n",
    "    print(y)\n",
    "\n",
    "display_variable2()"
   ]
  },
  {
   "cell_type": "code",
   "execution_count": 37,
   "id": "bc8ffe70-41ba-4ae8-bef2-f16b48195b47",
   "metadata": {},
   "outputs": [
    {
     "data": {
      "text/plain": [
       "6"
      ]
     },
     "execution_count": 37,
     "metadata": {},
     "output_type": "execute_result"
    }
   ],
   "source": [
    "3 + 3"
   ]
  },
  {
   "cell_type": "code",
   "execution_count": 39,
   "id": "482aa7aa-4664-45fd-84dd-cdbc444a237d",
   "metadata": {},
   "outputs": [
    {
     "name": "stdout",
     "output_type": "stream",
     "text": [
      "6\n",
      "9\n"
     ]
    }
   ],
   "source": [
    "x = 3\n",
    "x += 3\n",
    "y = x + 3\n",
    "print(x)\n",
    "print(y)"
   ]
  },
  {
   "cell_type": "code",
   "execution_count": null,
   "id": "4da59941-b114-4a9d-9b46-9e371567c324",
   "metadata": {},
   "outputs": [],
   "source": []
  }
 ],
 "metadata": {
  "kernelspec": {
   "display_name": "Python 3 (ipykernel)",
   "language": "python",
   "name": "python3"
  },
  "language_info": {
   "codemirror_mode": {
    "name": "ipython",
    "version": 3
   },
   "file_extension": ".py",
   "mimetype": "text/x-python",
   "name": "python",
   "nbconvert_exporter": "python",
   "pygments_lexer": "ipython3",
   "version": "3.12.4"
  }
 },
 "nbformat": 4,
 "nbformat_minor": 5
}
